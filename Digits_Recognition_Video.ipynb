{
  "nbformat": 4,
  "nbformat_minor": 0,
  "metadata": {
    "accelerator": "GPU",
    "colab": {
      "name": "Lesson 5 Digits Recognition Video.ipynb",
      "provenance": [],
      "collapsed_sections": [],
      "include_colab_link": true
    },
    "kernelspec": {
      "display_name": "Python 3",
      "language": "python",
      "name": "python3"
    },
    "language_info": {
      "codemirror_mode": {
        "name": "ipython",
        "version": 3
      },
      "file_extension": ".py",
      "mimetype": "text/x-python",
      "name": "python",
      "nbconvert_exporter": "python",
      "pygments_lexer": "ipython3",
      "version": "3.6.8"
    }
  },
  "cells": [
    {
      "cell_type": "markdown",
      "metadata": {
        "id": "view-in-github",
        "colab_type": "text"
      },
      "source": [
        "<a href=\"https://colab.research.google.com/github/vanof/neural_networks/blob/master/Digits_Recognition_Video.ipynb\" target=\"_parent\"><img src=\"https://colab.research.google.com/assets/colab-badge.svg\" alt=\"Open In Colab\"/></a>"
      ]
    },
    {
      "cell_type": "code",
      "metadata": {
        "colab_type": "code",
        "id": "DWr6cvb9pS3J",
        "colab": {}
      },
      "source": [
        "import torch\n",
        "import random\n",
        "import numpy as np\n",
        "\n",
        "random.seed(0)\n",
        "np.random.seed(0)\n",
        "torch.manual_seed(0)\n",
        "torch.cuda.manual_seed(0)\n",
        "torch.backends.cudnn.deterministic = True"
      ],
      "execution_count": 0,
      "outputs": []
    },
    {
      "cell_type": "code",
      "metadata": {
        "colab_type": "code",
        "id": "MqGQWTDIpS3R",
        "colab": {}
      },
      "source": [
        "import torchvision.datasets\n",
        "MNIST_train = torchvision.datasets.MNIST('./', download=True, train=True)\n",
        "MNIST_test = torchvision.datasets.MNIST('./', download=True, train=False)"
      ],
      "execution_count": 0,
      "outputs": []
    },
    {
      "cell_type": "code",
      "metadata": {
        "colab_type": "code",
        "id": "vv_Lz7PYpS3U",
        "outputId": "676dc13e-b04d-4a24-b25f-2131ec0b3533",
        "colab": {
          "base_uri": "https://localhost:8080/",
          "height": 153
        }
      },
      "source": [
        "X_train = MNIST_train.train_data\n",
        "y_train = MNIST_train.train_labels\n",
        "X_test = MNIST_test.test_data\n",
        "y_test = MNIST_test.test_labels"
      ],
      "execution_count": 0,
      "outputs": [
        {
          "output_type": "stream",
          "text": [
            "/usr/local/lib/python3.6/dist-packages/torchvision/datasets/mnist.py:55: UserWarning: train_data has been renamed data\n",
            "  warnings.warn(\"train_data has been renamed data\")\n",
            "/usr/local/lib/python3.6/dist-packages/torchvision/datasets/mnist.py:45: UserWarning: train_labels has been renamed targets\n",
            "  warnings.warn(\"train_labels has been renamed targets\")\n",
            "/usr/local/lib/python3.6/dist-packages/torchvision/datasets/mnist.py:60: UserWarning: test_data has been renamed data\n",
            "  warnings.warn(\"test_data has been renamed data\")\n",
            "/usr/local/lib/python3.6/dist-packages/torchvision/datasets/mnist.py:50: UserWarning: test_labels has been renamed targets\n",
            "  warnings.warn(\"test_labels has been renamed targets\")\n"
          ],
          "name": "stderr"
        }
      ]
    },
    {
      "cell_type": "code",
      "metadata": {
        "colab_type": "code",
        "id": "hMhsAedlrQF5",
        "outputId": "f2c00f07-59ac-4638-cdb7-164bc2a2b086",
        "colab": {
          "base_uri": "https://localhost:8080/",
          "height": 34
        }
      },
      "source": [
        "X_train.dtype, y_train.dtype"
      ],
      "execution_count": 0,
      "outputs": [
        {
          "output_type": "execute_result",
          "data": {
            "text/plain": [
              "(torch.uint8, torch.int64)"
            ]
          },
          "metadata": {
            "tags": []
          },
          "execution_count": 49
        }
      ]
    },
    {
      "cell_type": "code",
      "metadata": {
        "colab_type": "code",
        "id": "_yTaVOrPvap6",
        "colab": {}
      },
      "source": [
        "X_train = X_train.float()\n",
        "X_test = X_test.float()"
      ],
      "execution_count": 0,
      "outputs": []
    },
    {
      "cell_type": "code",
      "metadata": {
        "colab_type": "code",
        "id": "_gfupg4kpS3X",
        "outputId": "b160951d-317a-405e-de2d-8a1f50cb033f",
        "colab": {
          "base_uri": "https://localhost:8080/",
          "height": 34
        }
      },
      "source": [
        "X_train.shape, X_test.shape"
      ],
      "execution_count": 0,
      "outputs": [
        {
          "output_type": "execute_result",
          "data": {
            "text/plain": [
              "(torch.Size([60000, 28, 28]), torch.Size([10000, 28, 28]))"
            ]
          },
          "metadata": {
            "tags": []
          },
          "execution_count": 51
        }
      ]
    },
    {
      "cell_type": "code",
      "metadata": {
        "colab_type": "code",
        "id": "zEC1RXBEz_SW",
        "outputId": "0d521f99-9a12-4acf-cb21-c0b4dc8f4bea",
        "colab": {
          "base_uri": "https://localhost:8080/",
          "height": 34
        }
      },
      "source": [
        "y_train.shape, y_test.shape"
      ],
      "execution_count": 0,
      "outputs": [
        {
          "output_type": "execute_result",
          "data": {
            "text/plain": [
              "(torch.Size([60000]), torch.Size([10000]))"
            ]
          },
          "metadata": {
            "tags": []
          },
          "execution_count": 52
        }
      ]
    },
    {
      "cell_type": "code",
      "metadata": {
        "colab_type": "code",
        "id": "Z1tFXMwJpS3e",
        "outputId": "a49213a5-bf8c-464f-ec20-543b93337b7e",
        "colab": {
          "base_uri": "https://localhost:8080/",
          "height": 282
        }
      },
      "source": [
        "import matplotlib.pyplot as plt\n",
        "plt.imshow(X_train[0, :, :])\n",
        "plt.show()\n",
        "print(y_train[0])"
      ],
      "execution_count": 0,
      "outputs": [
        {
          "output_type": "display_data",
          "data": {
            "image/png": "[encoded data removed]",
            "text/plain": [
              "<Figure size 432x288 with 1 Axes>"
            ]
          },
          "metadata": {
            "tags": [],
            "needs_background": "light"
          }
        },
        {
          "output_type": "stream",
          "text": [
            "tensor(5)\n"
          ],
          "name": "stdout"
        }
      ]
    },
    {
      "cell_type": "code",
      "metadata": {
        "colab_type": "code",
        "id": "IUZgNg7zpS3j",
        "colab": {}
      },
      "source": [
        "X_train = X_train.reshape([-1, 28 * 28])\n",
        "X_test = X_test.reshape([-1, 28 * 28])"
      ],
      "execution_count": 0,
      "outputs": []
    },
    {
      "cell_type": "code",
      "metadata": {
        "colab_type": "code",
        "id": "k7l65slppS3l",
        "colab": {}
      },
      "source": [
        "class MNISTNet(torch.nn.Module):\n",
        "    def __init__(self, n_hidden_neurons):\n",
        "        super(MNISTNet, self).__init__()\n",
        "        self.fc1 = torch.nn.Linear(28 * 28, n_hidden_neurons)\n",
        "        self.ac1 = torch.nn.Sigmoid()\n",
        "        self.fc2 = torch.nn.Linear(n_hidden_neurons, 10) \n",
        "    \n",
        "    def forward(self, x):\n",
        "        x = self.fc1(x)\n",
        "        x = self.ac1(x)\n",
        "        x = self.fc2(x)\n",
        "        return x\n",
        "    \n",
        "mnist_net = MNISTNet(100)"
      ],
      "execution_count": 0,
      "outputs": []
    },
    {
      "cell_type": "code",
      "metadata": {
        "colab_type": "code",
        "id": "FJp7t3dR0pC5",
        "outputId": "199dd536-7ce4-42e8-d352-ae12dcab1c9d",
        "colab": {
          "base_uri": "https://localhost:8080/",
          "height": 34
        }
      },
      "source": [
        "torch.cuda.is_available()"
      ],
      "execution_count": 0,
      "outputs": [
        {
          "output_type": "execute_result",
          "data": {
            "text/plain": [
              "True"
            ]
          },
          "metadata": {
            "tags": []
          },
          "execution_count": 69
        }
      ]
    },
    {
      "cell_type": "code",
      "metadata": {
        "colab_type": "code",
        "id": "ShQDv_w-0rz8",
        "outputId": "d410a767-fb88-4f67-a6b3-53e30185d33f",
        "colab": {
          "base_uri": "https://localhost:8080/",
          "height": 289
        }
      },
      "source": [
        "!nvidia-smi"
      ],
      "execution_count": 0,
      "outputs": [
        {
          "output_type": "stream",
          "text": [
            "Wed May  6 19:32:01 2020       \n",
            "+-----------------------------------------------------------------------------+\n",
            "| NVIDIA-SMI 440.82       Driver Version: 418.67       CUDA Version: 10.1     |\n",
            "|-------------------------------+----------------------+----------------------+\n",
            "| GPU  Name        Persistence-M| Bus-Id        Disp.A | Volatile Uncorr. ECC |\n",
            "| Fan  Temp  Perf  Pwr:Usage/Cap|         Memory-Usage | GPU-Util  Compute M. |\n",
            "|===============================+======================+======================|\n",
            "|   0  Tesla P100-PCIE...  Off  | 00000000:00:04.0 Off |                    0 |\n",
            "| N/A   50C    P0    36W / 250W |    765MiB / 16280MiB |      0%      Default |\n",
            "+-------------------------------+----------------------+----------------------+\n",
            "                                                                               \n",
            "+-----------------------------------------------------------------------------+\n",
            "| Processes:                                                       GPU Memory |\n",
            "|  GPU       PID   Type   Process name                             Usage      |\n",
            "|=============================================================================|\n",
            "+-----------------------------------------------------------------------------+\n"
          ],
          "name": "stdout"
        }
      ]
    },
    {
      "cell_type": "code",
      "metadata": {
        "colab_type": "code",
        "id": "iUHy-780po9d",
        "outputId": "a601014e-fb2e-4e15-e231-3a2ec53b04a2",
        "colab": {
          "base_uri": "https://localhost:8080/",
          "height": 1000
        }
      },
      "source": [
        "device = torch.device('cuda:0' if torch.cuda.is_available() else 'cpu')\n",
        "mnist_net = mnist_net.to(device)\n",
        "list(mnist_net.parameters())"
      ],
      "execution_count": 0,
      "outputs": [
        {
          "output_type": "execute_result",
          "data": {
            "text/plain": [
              "[Parameter containing:\n",
              " tensor([[-0.0065, -0.0294, -0.0136,  ..., -0.0043, -0.0036,  0.0120],\n",
              "         [-0.0115, -0.0242, -0.0040,  ..., -0.0311,  0.0258, -0.0097],\n",
              "         [ 0.0233,  0.0108,  0.0082,  ...,  0.0016, -0.0004, -0.0083],\n",
              "         ...,\n",
              "         [-0.0198,  0.0169, -0.0347,  ..., -0.0177,  0.0069,  0.0246],\n",
              "         [-0.0343, -0.0231,  0.0266,  ...,  0.0295,  0.0031, -0.0128],\n",
              "         [-0.0199,  0.0092,  0.0331,  ..., -0.0341,  0.0093, -0.0252]],\n",
              "        device='cuda:0', requires_grad=True), Parameter containing:\n",
              " tensor([ 0.0142,  0.0077, -0.0145,  0.0145, -0.0227,  0.0202, -0.0319, -0.0027,\n",
              "          0.0294, -0.0003,  0.0056, -0.0356,  0.0342, -0.0108,  0.0278, -0.0309,\n",
              "         -0.0109, -0.0123,  0.0261, -0.0235,  0.0096, -0.0029,  0.0281, -0.0019,\n",
              "          0.0309,  0.0011,  0.0354,  0.0303, -0.0269, -0.0215,  0.0059, -0.0184,\n",
              "         -0.0230, -0.0327, -0.0059,  0.0227, -0.0189,  0.0081,  0.0077,  0.0023,\n",
              "         -0.0189, -0.0203,  0.0115, -0.0057, -0.0104,  0.0065, -0.0322,  0.0036,\n",
              "          0.0037,  0.0276,  0.0192,  0.0120,  0.0213, -0.0134,  0.0229, -0.0132,\n",
              "          0.0256, -0.0149, -0.0074,  0.0275, -0.0069, -0.0144,  0.0073,  0.0199,\n",
              "         -0.0164,  0.0023,  0.0164, -0.0239, -0.0270,  0.0246,  0.0186, -0.0127,\n",
              "         -0.0332, -0.0270, -0.0295, -0.0210,  0.0161,  0.0289, -0.0003, -0.0307,\n",
              "         -0.0178,  0.0011,  0.0259, -0.0104,  0.0256,  0.0247,  0.0125, -0.0216,\n",
              "         -0.0351,  0.0331, -0.0096, -0.0265, -0.0335, -0.0346,  0.0297,  0.0337,\n",
              "          0.0088, -0.0198,  0.0274, -0.0118], device='cuda:0',\n",
              "        requires_grad=True), Parameter containing:\n",
              " tensor([[-0.0497, -0.0392,  0.0391, -0.0326,  0.0709,  0.0860,  0.0388,  0.0831,\n",
              "           0.0569, -0.0743, -0.0953, -0.0864, -0.0791,  0.0169,  0.0520,  0.0881,\n",
              "          -0.0861, -0.0790,  0.0929, -0.0268, -0.0722, -0.0564,  0.0201,  0.0946,\n",
              "          -0.0633,  0.0887, -0.0974,  0.0356, -0.0345, -0.0704,  0.0929, -0.0106,\n",
              "          -0.0836,  0.0150, -0.0671,  0.0390, -0.0416, -0.0389, -0.0966,  0.0590,\n",
              "          -0.0531, -0.0368,  0.0315, -0.0924, -0.0072, -0.0462, -0.0695,  0.0172,\n",
              "           0.0159,  0.0531, -0.0500, -0.0910,  0.0511,  0.0121, -0.0685,  0.0534,\n",
              "          -0.0328,  0.0159,  0.0891,  0.0414, -0.0924,  0.0997, -0.0404,  0.0702,\n",
              "           0.0986,  0.0846,  0.0737, -0.0784, -0.0331,  0.0610,  0.0797,  0.0987,\n",
              "          -0.0756, -0.0953, -0.0232,  0.0894,  0.0692,  0.0706, -0.0829,  0.0547,\n",
              "          -0.0446, -0.0642,  0.0478,  0.0663, -0.0914,  0.0857, -0.0608, -0.0366,\n",
              "           0.0507, -0.0771, -0.0241,  0.0558, -0.0328,  0.0789, -0.0093, -0.0550,\n",
              "          -0.0093,  0.0888,  0.0009, -0.0295],\n",
              "         [-0.0262, -0.0639, -0.0920, -0.0700, -0.0283, -0.0783, -0.0734,  0.0334,\n",
              "          -0.0543,  0.0897,  0.0357,  0.0134,  0.0781, -0.0167, -0.0481, -0.0119,\n",
              "           0.0583,  0.0471, -0.0379,  0.0165,  0.0665,  0.0908, -0.0157, -0.0192,\n",
              "           0.0860, -0.0663, -0.0840, -0.0099,  0.0052, -0.0877,  0.0719,  0.0278,\n",
              "           0.0189,  0.0703, -0.0219,  0.0226,  0.0893, -0.0040, -0.0651,  0.0091,\n",
              "          -0.0946, -0.0733, -0.0416, -0.0381,  0.0358, -0.0709,  0.0505, -0.0710,\n",
              "          -0.0795,  0.0321, -0.0238, -0.0946, -0.0308, -0.0863,  0.0272,  0.0631,\n",
              "           0.0410,  0.0792, -0.0899, -0.0699,  0.0837, -0.0986, -0.0252, -0.0921,\n",
              "           0.0879, -0.0904,  0.0690, -0.0406,  0.0615,  0.0012, -0.0759,  0.0894,\n",
              "           0.0082, -0.0178, -0.0958,  0.0495, -0.0263, -0.0630, -0.0427, -0.0221,\n",
              "          -0.0288,  0.0613,  0.0534,  0.0828, -0.0870, -0.0011, -0.0359,  0.0373,\n",
              "          -0.0145,  0.0316,  0.0770, -0.0055, -0.0805, -0.0115, -0.0818, -0.0653,\n",
              "           0.0085, -0.0021,  0.0611,  0.0354],\n",
              "         [-0.0144, -0.0580,  0.0518,  0.0155, -0.0398, -0.0591, -0.0865,  0.0580,\n",
              "           0.0749,  0.0472, -0.0353,  0.0831,  0.0439, -0.0331,  0.0458, -0.0205,\n",
              "           0.0284,  0.0475, -0.0689, -0.0511,  0.0338, -0.0874, -0.0341,  0.0179,\n",
              "           0.0206,  0.0408,  0.0104,  0.0925, -0.0382,  0.0609,  0.0210,  0.0521,\n",
              "           0.0228,  0.0519, -0.0212, -0.0971, -0.0058, -0.0689, -0.0843, -0.0350,\n",
              "          -0.0613, -0.0329,  0.0949,  0.0398,  0.0947, -0.0763, -0.0855, -0.0132,\n",
              "           0.0929, -0.0153, -0.0690,  0.0912,  0.0649, -0.0348,  0.0828,  0.0048,\n",
              "          -0.0009, -0.0200, -0.0779, -0.0259,  0.0737, -0.0976,  0.0759, -0.0601,\n",
              "          -0.0184,  0.0640, -0.0004,  0.0764,  0.0069, -0.0568, -0.0065,  0.0174,\n",
              "           0.0815, -0.0368,  0.0392, -0.0135,  0.0612,  0.0543,  0.0959, -0.0996,\n",
              "          -0.0008, -0.0778, -0.0578, -0.0410,  0.0805, -0.0889, -0.0234, -0.0957,\n",
              "           0.0110, -0.0349,  0.0492, -0.0760, -0.0322, -0.0835, -0.0173, -0.0406,\n",
              "          -0.0535,  0.0639, -0.0651,  0.0318],\n",
              "         [-0.0379, -0.0787,  0.0508, -0.0280,  0.0818, -0.0905,  0.0357, -0.0280,\n",
              "          -0.0130,  0.0185, -0.0646, -0.0141,  0.0470, -0.0518, -0.0502,  0.0677,\n",
              "          -0.0487,  0.0846, -0.0938,  0.0188,  0.0840,  0.0302, -0.0748,  0.0762,\n",
              "          -0.0005, -0.0813,  0.0535,  0.0462, -0.0298, -0.0815,  0.0319,  0.0271,\n",
              "           0.0361,  0.0424,  0.0523, -0.0608,  0.0477, -0.0024, -0.0889,  0.0454,\n",
              "           0.0469, -0.0591,  0.0892, -0.0964, -0.0482, -0.0742, -0.0348, -0.0427,\n",
              "           0.0660,  0.0930,  0.0040, -0.0493, -0.0982,  0.0260,  0.0617, -0.0590,\n",
              "          -0.0748, -0.0042,  0.0705, -0.0931, -0.0280,  0.0580, -0.0711,  0.0031,\n",
              "           0.0764, -0.0741,  0.0184,  0.0034,  0.0264, -0.0565, -0.0880,  0.0438,\n",
              "          -0.0684, -0.0926,  0.0499,  0.0010,  0.0481,  0.0365,  0.0751,  0.0451,\n",
              "          -0.0484,  0.0595,  0.0596, -0.0572,  0.0710,  0.0173,  0.0586, -0.0498,\n",
              "           0.0191, -0.0782, -0.0529, -0.0411,  0.0855,  0.0424,  0.0318,  0.0268,\n",
              "          -0.0622, -0.0392,  0.0963, -0.0941],\n",
              "         [-0.0841, -0.0668,  0.0491, -0.0296,  0.0171,  0.0960, -0.0988,  0.0413,\n",
              "          -0.0194, -0.0166,  0.0701, -0.0197,  0.0401,  0.0602,  0.0018,  0.0949,\n",
              "          -0.0019, -0.0561,  0.0555, -0.0646,  0.0330, -0.0551,  0.0586, -0.0927,\n",
              "           0.0918, -0.0943, -0.0611,  0.0431,  0.0340,  0.0372, -0.0438,  0.0359,\n",
              "           0.0851,  0.0007, -0.0470, -0.0944,  0.0711,  0.0130,  0.0551,  0.0433,\n",
              "          -0.0862,  0.0109,  0.0319, -0.0944,  0.0025, -0.0979,  0.0222, -0.0304,\n",
              "           0.0857,  0.0066, -0.0698, -0.0634, -0.0970, -0.0440, -0.0456, -0.0392,\n",
              "          -0.0659, -0.0326,  0.0925, -0.0983,  0.0210,  0.0207, -0.0472, -0.0803,\n",
              "          -0.0068,  0.0734, -0.0211,  0.0899, -0.0670,  0.0678,  0.0274,  0.0469,\n",
              "           0.0603, -0.0066,  0.0611,  0.0351,  0.0535, -0.0134,  0.0177,  0.0242,\n",
              "           0.0318, -0.0985, -0.0023, -0.0232,  0.0749,  0.0080,  0.0979, -0.0964,\n",
              "          -0.0729, -0.0217,  0.0402,  0.0120,  0.0038, -0.0767, -0.0274,  0.0774,\n",
              "          -0.0046,  0.0948,  0.0781,  0.0548],\n",
              "         [ 0.0396, -0.0785, -0.0541,  0.0950,  0.0826,  0.0688, -0.0025, -0.0573,\n",
              "           0.0892, -0.0813, -0.0147, -0.0206,  0.0338, -0.0634,  0.0718,  0.0128,\n",
              "          -0.0549, -0.0261,  0.0161, -0.0860, -0.0193, -0.0971, -0.0069, -0.0501,\n",
              "           0.0203, -0.0152, -0.0482, -0.0946,  0.0557, -0.0190, -0.0061,  0.0295,\n",
              "          -0.0295, -0.0874,  0.0900,  0.0235, -0.0290,  0.0146, -0.0356, -0.0039,\n",
              "           0.0690,  0.0682,  0.0686,  0.0765, -0.0895,  0.0872,  0.0147,  0.0092,\n",
              "           0.0681, -0.0257,  0.0575,  0.0289,  0.0634, -0.0118, -0.0434,  0.0675,\n",
              "          -0.0158,  0.0321,  0.0327, -0.0018, -0.0978, -0.0744,  0.0218,  0.0752,\n",
              "           0.0446,  0.0883, -0.0366,  0.0012,  0.0646,  0.0356,  0.0557, -0.0396,\n",
              "          -0.0638,  0.0862, -0.0786,  0.0823,  0.0269,  0.0755, -0.0632,  0.0427,\n",
              "          -0.0582,  0.0257, -0.0905,  0.0575, -0.0275,  0.0843, -0.0124,  0.0761,\n",
              "          -0.0519,  0.0406, -0.0018, -0.0848,  0.0960, -0.0068,  0.0217, -0.0178,\n",
              "           0.0171,  0.0107,  0.0314,  0.0348],\n",
              "         [-0.0809, -0.0695,  0.0590,  0.0809, -0.0204, -0.0956,  0.0859, -0.0942,\n",
              "           0.0915, -0.0707,  0.0140, -0.0197, -0.0490,  0.0332,  0.0030,  0.0712,\n",
              "           0.0876,  0.0886, -0.0435, -0.0004, -0.0858, -0.0968, -0.0166, -0.0162,\n",
              "           0.0427, -0.0487, -0.0996,  0.0281,  0.0395,  0.0070, -0.0559, -0.0466,\n",
              "          -0.0882,  0.0702, -0.0465,  0.0460, -0.0491,  0.0101,  0.0426, -0.0757,\n",
              "           0.0657, -0.0381, -0.0118,  0.0484,  0.0638,  0.0023,  0.0047, -0.0470,\n",
              "           0.0157,  0.0723, -0.0486, -0.0624, -0.0604,  0.0123, -0.0673, -0.0489,\n",
              "          -0.0094, -0.0976, -0.0208, -0.0210,  0.0199,  0.0237, -0.0493, -0.0966,\n",
              "           0.0028, -0.0384, -0.0272,  0.0184, -0.0878,  0.0380,  0.0543,  0.0339,\n",
              "          -0.0093, -0.0235, -0.0434, -0.0959, -0.0336, -0.0081,  0.0829, -0.0006,\n",
              "           0.0743, -0.0213, -0.0575,  0.0588, -0.0126,  0.0422,  0.0008, -0.0850,\n",
              "           0.0928, -0.0555,  0.0053,  0.0749,  0.0234,  0.0779, -0.0747,  0.0660,\n",
              "          -0.0828, -0.0406,  0.0291,  0.0081],\n",
              "         [ 0.0184, -0.0317,  0.0516, -0.0887,  0.0494, -0.0909,  0.0596, -0.0757,\n",
              "          -0.0102,  0.0922,  0.0152, -0.0773, -0.0185,  0.0792, -0.0001, -0.0582,\n",
              "           0.0738,  0.0408,  0.0837, -0.0148, -0.0311, -0.0632, -0.0536, -0.0532,\n",
              "           0.0106, -0.0370,  0.0854,  0.0193,  0.0098, -0.0436,  0.0652, -0.0747,\n",
              "          -0.0769, -0.0668, -0.0008,  0.0501, -0.0453,  0.0391,  0.0640, -0.0459,\n",
              "           0.0218, -0.0765, -0.0632, -0.0595, -0.0857, -0.0763,  0.0008, -0.0184,\n",
              "          -0.0158,  0.0450, -0.0644,  0.0869,  0.0679, -0.0235, -0.0688, -0.0004,\n",
              "          -0.0982, -0.0483,  0.0836, -0.0494,  0.0957,  0.0725,  0.0611,  0.0868,\n",
              "           0.0725,  0.0635, -0.0588,  0.0478, -0.0976,  0.0214, -0.0426,  0.0420,\n",
              "          -0.0447,  0.0714,  0.0562, -0.0614,  0.0612, -0.0282, -0.0905, -0.0386,\n",
              "          -0.0486,  0.0923, -0.0608,  0.0557,  0.0615,  0.0190, -0.0959,  0.0391,\n",
              "          -0.0276,  0.0196, -0.0256,  0.0922,  0.0163,  0.0576,  0.0207,  0.0542,\n",
              "          -0.0665, -0.0741, -0.0939, -0.0799],\n",
              "         [-0.0071,  0.0157,  0.0480,  0.0135, -0.0546, -0.0148,  0.0466,  0.0302,\n",
              "          -0.0058, -0.0073, -0.0798, -0.0923,  0.0640,  0.0208, -0.0310, -0.0617,\n",
              "           0.0927, -0.0963, -0.0402,  0.0824, -0.0205,  0.0586, -0.0957,  0.0735,\n",
              "          -0.0486,  0.0660, -0.0955, -0.0490,  0.0426,  0.0264,  0.0972,  0.0538,\n",
              "           0.0181, -0.0213,  0.0090,  0.0104, -0.0920, -0.0430, -0.0852,  0.0015,\n",
              "          -0.0468, -0.0133,  0.0752,  0.0104,  0.0876, -0.0751, -0.0806,  0.0998,\n",
              "          -0.0375,  0.0896,  0.0549, -0.0107, -0.0602, -0.0979, -0.0392,  0.0588,\n",
              "          -0.0259,  0.0862,  0.0709, -0.0335, -0.0806, -0.0010, -0.0584,  0.0920,\n",
              "          -0.0065,  0.0410,  0.0131, -0.0988,  0.0635, -0.0039,  0.0431, -0.0698,\n",
              "          -0.0526,  0.0652, -0.0286,  0.0395, -0.0783, -0.0913,  0.0888,  0.0578,\n",
              "          -0.0989,  0.0999, -0.0759,  0.0343, -0.0128,  0.0013,  0.0463, -0.0535,\n",
              "          -0.0503,  0.0952,  0.0723, -0.0760,  0.0162,  0.0004,  0.0867,  0.0545,\n",
              "          -0.0567,  0.0903,  0.0628,  0.0455],\n",
              "         [ 0.0891,  0.0122, -0.0930, -0.0928, -0.0862,  0.0656, -0.0145, -0.0036,\n",
              "          -0.0536,  0.0192,  0.0627, -0.0664,  0.0427,  0.0087, -0.0408, -0.0133,\n",
              "           0.0544, -0.0403, -0.0040,  0.0125, -0.0871, -0.0189, -0.0813, -0.0961,\n",
              "          -0.0607, -0.0926, -0.0737,  0.0923, -0.0122, -0.0480, -0.0864,  0.0886,\n",
              "          -0.0153,  0.0735, -0.0873,  0.0536,  0.0078, -0.0959, -0.0822, -0.0479,\n",
              "           0.0780, -0.0458, -0.0099, -0.0142, -0.0371,  0.0169,  0.0941,  0.0761,\n",
              "          -0.0756,  0.0076,  0.0241, -0.0111, -0.0349, -0.0361, -0.0323, -0.0087,\n",
              "           0.0774, -0.0098,  0.0819, -0.0984, -0.0571, -0.0522, -0.0364,  0.0167,\n",
              "           0.0588, -0.0396,  0.0154, -0.0341, -0.0856,  0.0943, -0.0276, -0.0920,\n",
              "           0.0736,  0.0958, -0.0619, -0.0604, -0.0594, -0.0739,  0.0227, -0.0595,\n",
              "           0.0361,  0.0645,  0.0097, -0.0390, -0.0400,  0.0912, -0.0905,  0.0030,\n",
              "           0.0981,  0.0898,  0.0013,  0.0170,  0.0344,  0.0958,  0.0683, -0.0065,\n",
              "           0.0086, -0.0555, -0.0990, -0.0333]], device='cuda:0',\n",
              "        requires_grad=True), Parameter containing:\n",
              " tensor([ 0.0603, -0.0551,  0.0090, -0.0121, -0.0173, -0.0438,  0.0206, -0.0253,\n",
              "          0.0763, -0.0221], device='cuda:0', requires_grad=True)]"
            ]
          },
          "metadata": {
            "tags": []
          },
          "execution_count": 79
        }
      ]
    },
    {
      "cell_type": "code",
      "metadata": {
        "colab_type": "code",
        "id": "00_2j2igpS3o",
        "colab": {}
      },
      "source": [
        "loss = torch.nn.CrossEntropyLoss()\n",
        "optimizer = torch.optim.Adam(mnist_net.parameters(), lr=1.0e-3)"
      ],
      "execution_count": 0,
      "outputs": []
    },
    {
      "cell_type": "code",
      "metadata": {
        "colab_type": "code",
        "id": "wZtqiGvfpS3r",
        "outputId": "60eb4b1e-0153-4ff3-8746-18369a8338f4",
        "colab": {
          "base_uri": "https://localhost:8080/",
          "height": 843
        }
      },
      "source": [
        "batch_size = 100\n",
        "\n",
        "test_accuracy_history = []\n",
        "test_loss_history = []\n",
        "\n",
        "X_test = X_test.to(device)\n",
        "y_test = y_test.to(device)\n",
        "\n",
        "for epoch in range(10000):\n",
        "    order = np.random.permutation(len(X_train))\n",
        "    \n",
        "    for start_index in range(0, len(X_train), batch_size):\n",
        "        optimizer.zero_grad()\n",
        "        \n",
        "        batch_indexes = order[start_index:start_index+batch_size]\n",
        "        \n",
        "        X_batch = X_train[batch_indexes].to(device)\n",
        "        y_batch = y_train[batch_indexes].to(device)\n",
        "        \n",
        "        preds = mnist_net.forward(X_batch) \n",
        "        \n",
        "        loss_value = loss(preds, y_batch)\n",
        "        loss_value.backward()\n",
        "        \n",
        "        optimizer.step()\n",
        "\n",
        "    test_preds = mnist_net.forward(X_test)\n",
        "    test_loss_history.append(loss(test_preds, y_test))\n",
        "    \n",
        "    accuracy = (test_preds.argmax(dim=1) == y_test).float().mean()\n",
        "    test_accuracy_history.append(accuracy)\n",
        "    print(accuracy)"
      ],
      "execution_count": 0,
      "outputs": [
        {
          "output_type": "stream",
          "text": [
            "tensor(0.9379, device='cuda:0')\n",
            "tensor(0.9411, device='cuda:0')\n",
            "tensor(0.9423, device='cuda:0')\n",
            "tensor(0.9422, device='cuda:0')\n",
            "tensor(0.9417, device='cuda:0')\n",
            "tensor(0.9442, device='cuda:0')\n",
            "tensor(0.9411, device='cuda:0')\n",
            "tensor(0.9458, device='cuda:0')\n",
            "tensor(0.9484, device='cuda:0')\n",
            "tensor(0.9485, device='cuda:0')\n",
            "tensor(0.9485, device='cuda:0')\n",
            "tensor(0.9460, device='cuda:0')\n",
            "tensor(0.9437, device='cuda:0')\n",
            "tensor(0.9448, device='cuda:0')\n",
            "tensor(0.9471, device='cuda:0')\n",
            "tensor(0.9496, device='cuda:0')\n",
            "tensor(0.9486, device='cuda:0')\n",
            "tensor(0.9455, device='cuda:0')\n",
            "tensor(0.9484, device='cuda:0')\n",
            "tensor(0.9454, device='cuda:0')\n",
            "tensor(0.9528, device='cuda:0')\n",
            "tensor(0.9471, device='cuda:0')\n",
            "tensor(0.9462, device='cuda:0')\n",
            "tensor(0.9482, device='cuda:0')\n",
            "tensor(0.9518, device='cuda:0')\n",
            "tensor(0.9512, device='cuda:0')\n",
            "tensor(0.9487, device='cuda:0')\n",
            "tensor(0.9494, device='cuda:0')\n",
            "tensor(0.9522, device='cuda:0')\n",
            "tensor(0.9509, device='cuda:0')\n",
            "tensor(0.9514, device='cuda:0')\n",
            "tensor(0.9549, device='cuda:0')\n",
            "tensor(0.9530, device='cuda:0')\n",
            "tensor(0.9501, device='cuda:0')\n",
            "tensor(0.9564, device='cuda:0')\n",
            "tensor(0.9488, device='cuda:0')\n"
          ],
          "name": "stdout"
        },
        {
          "output_type": "error",
          "ename": "KeyboardInterrupt",
          "evalue": "ignored",
          "traceback": [
            "\u001b[0;31m---------------------------------------------------------------------------\u001b[0m",
            "\u001b[0;31mKeyboardInterrupt\u001b[0m                         Traceback (most recent call last)",
            "\u001b[0;32m<ipython-input-83-d31c48a34d49>\u001b[0m in \u001b[0;36m<module>\u001b[0;34m()\u001b[0m\n\u001b[1;32m     15\u001b[0m         \u001b[0mbatch_indexes\u001b[0m \u001b[0;34m=\u001b[0m \u001b[0morder\u001b[0m\u001b[0;34m[\u001b[0m\u001b[0mstart_index\u001b[0m\u001b[0;34m:\u001b[0m\u001b[0mstart_index\u001b[0m\u001b[0;34m+\u001b[0m\u001b[0mbatch_size\u001b[0m\u001b[0;34m]\u001b[0m\u001b[0;34m\u001b[0m\u001b[0;34m\u001b[0m\u001b[0m\n\u001b[1;32m     16\u001b[0m \u001b[0;34m\u001b[0m\u001b[0m\n\u001b[0;32m---> 17\u001b[0;31m         \u001b[0mX_batch\u001b[0m \u001b[0;34m=\u001b[0m \u001b[0mX_train\u001b[0m\u001b[0;34m[\u001b[0m\u001b[0mbatch_indexes\u001b[0m\u001b[0;34m]\u001b[0m\u001b[0;34m.\u001b[0m\u001b[0mto\u001b[0m\u001b[0;34m(\u001b[0m\u001b[0mdevice\u001b[0m\u001b[0;34m)\u001b[0m\u001b[0;34m\u001b[0m\u001b[0;34m\u001b[0m\u001b[0m\n\u001b[0m\u001b[1;32m     18\u001b[0m         \u001b[0my_batch\u001b[0m \u001b[0;34m=\u001b[0m \u001b[0my_train\u001b[0m\u001b[0;34m[\u001b[0m\u001b[0mbatch_indexes\u001b[0m\u001b[0;34m]\u001b[0m\u001b[0;34m.\u001b[0m\u001b[0mto\u001b[0m\u001b[0;34m(\u001b[0m\u001b[0mdevice\u001b[0m\u001b[0;34m)\u001b[0m\u001b[0;34m\u001b[0m\u001b[0;34m\u001b[0m\u001b[0m\n\u001b[1;32m     19\u001b[0m \u001b[0;34m\u001b[0m\u001b[0m\n",
            "\u001b[0;31mKeyboardInterrupt\u001b[0m: "
          ]
        }
      ]
    },
    {
      "cell_type": "code",
      "metadata": {
        "colab_type": "code",
        "id": "kLnumX3SpS3u",
        "outputId": "93a70502-e1b0-482f-e8a9-27c19a5aa720",
        "colab": {
          "base_uri": "https://localhost:8080/",
          "height": 265
        }
      },
      "source": [
        "plt.plot(test_accuracy_history)\n",
        "plt.plot(test_loss_history);"
      ],
      "execution_count": 0,
      "outputs": [
        {
          "output_type": "display_data",
          "data": {
            "image/png": "[encoded data removed]",
            "text/plain": [
              "<Figure size 432x288 with 1 Axes>"
            ]
          },
          "metadata": {
            "tags": [],
            "needs_background": "light"
          }
        }
      ]
    },
    {
      "cell_type": "code",
      "metadata": {
        "id": "tqQfl62thDj5",
        "colab_type": "code",
        "colab": {}
      },
      "source": [
        ""
      ],
      "execution_count": 0,
      "outputs": []
    },
    {
      "cell_type": "code",
      "metadata": {
        "colab_type": "code",
        "id": "-nu1318JpS3y",
        "outputId": "cb887c4f-c67c-4fdc-f9b4-56d8d9de8ec1",
        "colab": {
          "base_uri": "https://localhost:8080/",
          "height": 289
        }
      },
      "source": [
        "!nvidia-smi"
      ],
      "execution_count": 0,
      "outputs": [
        {
          "output_type": "stream",
          "text": [
            "Wed May  6 19:33:55 2020       \n",
            "+-----------------------------------------------------------------------------+\n",
            "| NVIDIA-SMI 440.82       Driver Version: 418.67       CUDA Version: 10.1     |\n",
            "|-------------------------------+----------------------+----------------------+\n",
            "| GPU  Name        Persistence-M| Bus-Id        Disp.A | Volatile Uncorr. ECC |\n",
            "| Fan  Temp  Perf  Pwr:Usage/Cap|         Memory-Usage | GPU-Util  Compute M. |\n",
            "|===============================+======================+======================|\n",
            "|   0  Tesla P100-PCIE...  Off  | 00000000:00:04.0 Off |                    0 |\n",
            "| N/A   50C    P0    36W / 250W |    767MiB / 16280MiB |      0%      Default |\n",
            "+-------------------------------+----------------------+----------------------+\n",
            "                                                                               \n",
            "+-----------------------------------------------------------------------------+\n",
            "| Processes:                                                       GPU Memory |\n",
            "|  GPU       PID   Type   Process name                             Usage      |\n",
            "|=============================================================================|\n",
            "+-----------------------------------------------------------------------------+\n"
          ],
          "name": "stdout"
        }
      ]
    }
  ]
}