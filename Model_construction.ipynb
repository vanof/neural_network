{
  "nbformat": 4,
  "nbformat_minor": 0,
  "metadata": {
    "colab": {
      "name": "Model_construction.ipynb",
      "provenance": [],
      "authorship_tag": "ABX9TyOz9fSwyoBsIquHfw8JnuCE",
      "include_colab_link": true
    },
    "kernelspec": {
      "name": "python3",
      "display_name": "Python 3"
    }
  },
  "cells": [
    {
      "cell_type": "markdown",
      "metadata": {
        "id": "view-in-github",
        "colab_type": "text"
      },
      "source": [
        "<a href=\"https://colab.research.google.com/github/vanof/neural_networks/blob/master/Model_construction.ipynb\" target=\"_parent\"><img src=\"https://colab.research.google.com/assets/colab-badge.svg\" alt=\"Open In Colab\"/></a>"
      ]
    },
    {
      "cell_type": "code",
      "metadata": {
        "id": "_ayh7s4uyxDc",
        "colab_type": "code",
        "outputId": "5b5917c2-308e-4893-c253-d2eab39f127e",
        "colab": {
          "base_uri": "https://localhost:8080/",
          "height": 334
        }
      },
      "source": [
        "import torch\n",
        "import matplotlib\n",
        "import matplotlib.pyplot as plt\n",
        "\n",
        "matplotlib.rcParams['figure.figsize'] = (13.0, 5.0)\n",
        "\n",
        "# Train dataset\n",
        "x_train = torch.rand(100)\n",
        "x_train = x_train * 20.0 - 10.0\n",
        "\n",
        "y_train = torch.sin(x_train)\n",
        "\n",
        "#plt.plot(x_train.numpy(), y_train.numpy(), 'o')\n",
        "#plt.title('$y = sin(x)$');\n",
        "\n",
        "# noise\n",
        "noise = torch.randn(y_train.shape) / 5.\n",
        "\n",
        "#plt.plot(x_train.numpy(), noise.numpy(), 'o')\n",
        "#plt.axis([-10, 10, -1, 1])\n",
        "#plt.title('Gaussian noise');\n",
        "\n",
        "#noisy sin(x)\n",
        "y_train = y_train + noise\n",
        "#plt.plot(x_train.numpy(), y_train.numpy(), 'o')\n",
        "#plt.title('noisy sin(x)')\n",
        "#plt.xlabel('x_train')\n",
        "#plt.ylabel('y_train');\n",
        "\n",
        "# validation dataset\n",
        "x_validation = torch.linspace(-10, 10, 100)\n",
        "y_validation = torch.sin(x_validation.data)\n",
        "#plt.plot(x_validation.numpy(), y_validation.numpy(), 'o')\n",
        "#plt.title('sin(x)')\n",
        "#plt.xlabel('x_validation')\n",
        "#plt.ylabel('y_validation');\n",
        "\n",
        "# вектор X (который сейчас строка), превращается в столбец, \n",
        "# у которого в каждой строчке будет одно число X.\n",
        "# аналогично для y\n",
        "x_validation.unsqueeze_(1)\n",
        "y_validation.unsqueeze_(1);\n",
        "\n",
        "# train не забыть перевернуть\n",
        "x_train.unsqueeze_(1)\n",
        "y_train.unsqueeze_(1);\n",
        "\n",
        "# model constuction\n",
        "# https://pytorch.org/docs/stable/nn.html#non-linear-activations-weighted-sum-nonlinearity\n",
        "class SineNet(torch.nn.Module):\n",
        "    def __init__(self, n_hidden_neurons):\n",
        "        super(SineNet, self).__init__()\n",
        "        self.fc1 = torch.nn.Linear(1, n_hidden_neurons)\n",
        "        self.act1 = torch.nn.Sigmoid()\n",
        "        self.fc2 = torch.nn.Linear(n_hidden_neurons, n_hidden_neurons)\n",
        "        self.act2 = torch.nn.Tanh()\n",
        "        self.fc3 = torch.nn.Linear(n_hidden_neurons, 1)\n",
        "\n",
        "    '''\n",
        "    def __init__(self, n_hidden_neurons):\n",
        "        super(SineNet, self).__init__()\n",
        "        self.fc1 = torch.nn.Linear(1, n_hidden_neurons)\n",
        "        self.act1 = torch.nn.Sigmoid()\n",
        "        self.fc2 = torch.nn.Linear(n_hidden_neurons, 1)\n",
        "    '''\n",
        "\n",
        "    '''\n",
        "    def __init__(self, n_hidden_neurons):\n",
        "        super(SineNet, self).__init__()\n",
        "        self.fc1 = torch.nn.Linear(1, n_hidden_neurons)\n",
        "        self.act1 = torch.nn.Tanh()\n",
        "        self.fc2 = torch.nn.Linear(n_hidden_neurons, n_hidden_neurons)\n",
        "        self.act2 = torch.nn.Tanh()\n",
        "        self.fc3 = torch.nn.Linear(n_hidden_neurons, 1)\n",
        "    '''\n",
        "    \n",
        "    def forward(self, x):\n",
        "        x = self.fc1(x)\n",
        "        x = self.act1(x)\n",
        "        x = self.fc2(x)\n",
        "        x = self.act2(x)\n",
        "        x = self.fc3(x)\n",
        "        return x\n",
        "\n",
        "sine_net = SineNet(150)\n",
        "\n",
        "#sine_net = SineNet(int(input()))\n",
        "#sine_net.forward(torch.Tensor([1.]))\n",
        "#print(sine_net)\n",
        "\n",
        "# предсказание\n",
        "# сеть была инициирована случайными числами - когда вы задаёте слои,\n",
        "# они инициализируются некоторыми случайными числами - \n",
        "# на выходе у нас получается некоторая случайная кривая\n",
        "def predict(net, x, y):\n",
        "    y_pred = net.forward(x)\n",
        "\n",
        "    plt.plot(x.numpy(), y.numpy(), 'o', label='Groud truth')\n",
        "    plt.plot(x.numpy(), y_pred.data.numpy(), 'o', c='r', label='Prediction');\n",
        "    plt.legend(loc='upper left')\n",
        "    plt.xlabel('$x$')\n",
        "    plt.ylabel('$y$')\n",
        "\n",
        "#predict(sine_net, x_validation, y_validation)\n",
        "\n",
        "# optimazer\n",
        "optimizer = torch.optim.Adam(sine_net.parameters(), lr=0.01)\n",
        "\n",
        "# loss function - вычисление градиента\n",
        "def loss(pred, target):\n",
        "    squares = (pred - target) ** 2\n",
        "    return squares.mean()\n",
        "\n",
        "# эпохи обучения - итерация обучения на всем датасете\n",
        "for epoch_index in range(2000):\n",
        "    #обнуляем градиент\n",
        "    optimizer.zero_grad()\n",
        "    #считаем предсказание и функцию потерь\n",
        "    y_pred = sine_net.forward(x_train)\n",
        "    loss_val = loss(y_pred, y_train)\n",
        "    #берем производную\n",
        "    loss_val.backward()\n",
        "    #делаем градиентный шаг\n",
        "    optimizer.step()\n",
        "\n",
        "predict(sine_net, x_validation, y_validation)\n"
      ],
      "execution_count": 58,
      "outputs": [
        {
          "output_type": "display_data",
          "data": {
            "image/png": "[encoded data removed]",
            "text/plain": [
              "<Figure size 936x360 with 1 Axes>"
            ]
          },
          "metadata": {
            "tags": [],
            "needs_background": "light"
          }
        }
      ]
    },
    {
      "cell_type": "code",
      "metadata": {
        "id": "m2adtN8BN5Tx",
        "colab_type": "code",
        "colab": {}
      },
      "source": [
        ""
      ],
      "execution_count": 0,
      "outputs": []
    }
  ]
}