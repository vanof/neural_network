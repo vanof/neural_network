{
  "nbformat": 4,
  "nbformat_minor": 0,
  "metadata": {
    "colab": {
      "name": "Untitled0.ipynb",
      "provenance": [],
      "collapsed_sections": []
    },
    "kernelspec": {
      "name": "python3",
      "display_name": "Python 3"
    }
  },
  "cells": [
    {
      "cell_type": "code",
      "metadata": {
        "id": "g48dtJ_zzL0g",
        "colab_type": "code",
        "colab": {
          "base_uri": "https://localhost:8080/",
          "height": 277
        },
        "outputId": "5cb81d24-853e-4763-bf89-6c80a39bd7b4"
      },
      "source": [
        "import torch\n",
        "\n",
        "t = torch.tensor(      [[[[4., 9, 2],\n",
        "                         [5,  6, 2],\n",
        "                         [2,  4, 5]],\n",
        "                  \n",
        "                       [[4., 9, 2],\n",
        "                         [5,  6, 2],\n",
        "                         [2,  4, 5]],\n",
        "\n",
        "                        [[4., 9, 2],\n",
        "                         [5,  6, 2],\n",
        "                         [2,  4, 5]]]])\n",
        "\n",
        "\n",
        "kernel = torch.tensor(   [[[[1., 0, -1],\n",
        "                         [1,  0, -1],\n",
        "                         [1,  0, -1]],\n",
        "                  \n",
        "                        [[1., 0, -1],\n",
        "                         [1,  0, -1],\n",
        "                         [1,  0, -1]],\n",
        "\n",
        "                        [[1., 0, -1],\n",
        "                         [1,  0, -1],\n",
        "                         [1,  0, -1]]]])\n",
        "\n",
        "\n",
        "#kernel = torch.FloatTensor(1, 3, 3, 3).fill_(15)\n",
        "\n",
        "'''\n",
        "for image in t:\n",
        "    for channel in range(len(image)):\n",
        "        #print(image[channel])\n",
        "        for l in range (t.size()[2]):   #строки\n",
        "             #print(image[channel][l])\n",
        "             for k in range (t.size()[3]):   #столбцы\n",
        "                print(image[channel][l][k])\n",
        "'''\n",
        "out = torch.FloatTensor(1, 1, 1, 1).zero_()\n",
        "w = 0\n",
        "h = 0\n",
        "kernel_size = 3\n",
        "stride = 1\n",
        "# slice \n",
        "# w*stride:w*stride + kernel_size   \n",
        "# 0*1:0*1 + 3 = 0:3 [)\n",
        "# 1*1:1*1 + 3 = 1:4 [)\n",
        "# 2*1:2*1 + 3 = 2:5 [)\n",
        "# h*stride:h*stride + kernel_size\n",
        "# 0*1:0*1 + 3\n",
        "#print(t)\n",
        "#print(t.size()) \n",
        "#[из, канал, вниз, вправо]\n",
        "#k = t[0, 1,1, 1]\n",
        "k = t[0, 1, 0:3, 0:3]\n",
        "print(k)\n",
        "print(kernel)\n",
        "\n",
        "\n",
        "out[0,0,0,0] = (k*kernel).sum()\n",
        "print(out)\n",
        "#ind = torch.tensor([0])\n",
        "#p = torch.index_select(t[0],0,ind)\n",
        "#print(p)\n",
        " \n",
        " \n",
        "# Every row, only the last column\n",
        "# print(t[:,2,1:,1:])"
      ],
      "execution_count": 54,
      "outputs": [
        {
          "output_type": "stream",
          "text": [
            "tensor([[4., 9., 2.],\n",
            "        [5., 6., 2.],\n",
            "        [2., 4., 5.]])\n",
            "tensor([[[[ 1.,  0., -1.],\n",
            "          [ 1.,  0., -1.],\n",
            "          [ 1.,  0., -1.]],\n",
            "\n",
            "         [[ 1.,  0., -1.],\n",
            "          [ 1.,  0., -1.],\n",
            "          [ 1.,  0., -1.]],\n",
            "\n",
            "         [[ 1.,  0., -1.],\n",
            "          [ 1.,  0., -1.],\n",
            "          [ 1.,  0., -1.]]]])\n",
            "tensor([[[[6.]]]])\n"
          ],
          "name": "stdout"
        }
      ]
    }
  ]
}